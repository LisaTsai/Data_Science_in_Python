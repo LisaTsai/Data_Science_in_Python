{
 "cells": [
  {
   "cell_type": "markdown",
   "metadata": {},
   "source": [
    "### 0. 安裝Beautiful Soup及requests等函式庫"
   ]
  },
  {
   "cell_type": "code",
   "execution_count": 1,
   "metadata": {},
   "outputs": [
    {
     "name": "stdout",
     "output_type": "stream",
     "text": [
      "Requirement already satisfied: BeautifulSoup4 in /Library/Frameworks/Python.framework/Versions/3.7/lib/python3.7/site-packages (4.8.0)\n",
      "Requirement already satisfied: soupsieve>=1.2 in /Library/Frameworks/Python.framework/Versions/3.7/lib/python3.7/site-packages (from BeautifulSoup4) (1.9.3)\n",
      "\u001b[33mWARNING: You are using pip version 19.2.3, however version 19.3.1 is available.\n",
      "You should consider upgrading via the 'pip install --upgrade pip' command.\u001b[0m\n",
      "Requirement already satisfied: lxml in /Library/Frameworks/Python.framework/Versions/3.7/lib/python3.7/site-packages (4.4.1)\n",
      "\u001b[33mWARNING: You are using pip version 19.2.3, however version 19.3.1 is available.\n",
      "You should consider upgrading via the 'pip install --upgrade pip' command.\u001b[0m\n",
      "Requirement already satisfied: html5lib in /Library/Frameworks/Python.framework/Versions/3.7/lib/python3.7/site-packages (1.0.1)\n",
      "Requirement already satisfied: webencodings in /Library/Frameworks/Python.framework/Versions/3.7/lib/python3.7/site-packages (from html5lib) (0.5.1)\n",
      "Requirement already satisfied: six>=1.9 in /Library/Frameworks/Python.framework/Versions/3.7/lib/python3.7/site-packages (from html5lib) (1.12.0)\n",
      "\u001b[33mWARNING: You are using pip version 19.2.3, however version 19.3.1 is available.\n",
      "You should consider upgrading via the 'pip install --upgrade pip' command.\u001b[0m\n",
      "Requirement already satisfied: requests in /Library/Frameworks/Python.framework/Versions/3.7/lib/python3.7/site-packages (2.22.0)\n",
      "Requirement already satisfied: urllib3!=1.25.0,!=1.25.1,<1.26,>=1.21.1 in /Library/Frameworks/Python.framework/Versions/3.7/lib/python3.7/site-packages (from requests) (1.25.3)\n",
      "Requirement already satisfied: idna<2.9,>=2.5 in /Library/Frameworks/Python.framework/Versions/3.7/lib/python3.7/site-packages (from requests) (2.8)\n",
      "Requirement already satisfied: chardet<3.1.0,>=3.0.2 in /Library/Frameworks/Python.framework/Versions/3.7/lib/python3.7/site-packages (from requests) (3.0.4)\n",
      "Requirement already satisfied: certifi>=2017.4.17 in /Library/Frameworks/Python.framework/Versions/3.7/lib/python3.7/site-packages (from requests) (2019.6.16)\n",
      "\u001b[33mWARNING: You are using pip version 19.2.3, however version 19.3.1 is available.\n",
      "You should consider upgrading via the 'pip install --upgrade pip' command.\u001b[0m\n"
     ]
    }
   ],
   "source": [
    "import sys\n",
    "!{sys.executable} -m pip install BeautifulSoup4\n",
    "!{sys.executable} -m pip install lxml\n",
    "!{sys.executable} -m pip install html5lib\n",
    "!{sys.executable} -m pip install requests"
   ]
  },
  {
   "cell_type": "markdown",
   "metadata": {},
   "source": [
    "### 1. 定義一個練習用的html檔案"
   ]
  },
  {
   "cell_type": "code",
   "execution_count": 1,
   "metadata": {},
   "outputs": [
    {
     "name": "stdout",
     "output_type": "stream",
     "text": [
      "\n",
      "<html>\n",
      "    <head>\n",
      "        <title>Today's lesson</title>\n",
      "        <style>\n",
      "        .center {\n",
      "          color:rgb(0, 128, 255);\n",
      "          text-align: center;\n",
      "        }\n",
      "        </style>\n",
      "    </head>\n",
      "    <body>\n",
      "        <h1 class=\"center\">Today's lesson</h1>\n",
      "        <p class=\"content\">We will go through three parts of data science as follows:\n",
      "        <a href=\"https://github.com/LisaTsai/Data_Science_in_Python/blob/master/01-Opendata_Map_Geopandas.ipynb\" class=\"chapter\" id=\"link1\">Opendata</a>,\n",
      "        <a href=\"https://github.com/LisaTsai/Data_Science_in_Python/blob/master/02-Economists_Crawler_BeautifulSoup.ipynb\" class=\"chapter\" id=\"link2\">Python Crawler</a> and\n",
      "        <a href=\"https://github.com/LisaTsai/Data_Science_in_Python/blob/master/03-Crawler_PTT_FittingCurve.ipynb\" class=\"chapter\" id=\"link3\">Fitting Curve</a>.\n",
      "         If you have any question, feel free to contact me.</p>\n",
      "        <p class=\"content\"> Beautiful Soup is a Python library for pulling data out of HTML and XML files... </p>\n",
      "        <img src=\"https://avatars2.githubusercontent.com/u/16304999?s=400&v=4\" height=\"80\" width=\"76\"/>\n",
      "        <div><a href=\"https://github.com/LisaTsai\" style=\"font-size=150%;color:gray\">LisaTsai's Github</a>\n",
      "    </body>\n",
      "</html>\n",
      "\n"
     ]
    }
   ],
   "source": [
    "html_example1 = \"\"\"\n",
    "<html>\n",
    "    <head>\n",
    "        <title>Today's lesson</title>\n",
    "        <style>\n",
    "        .center {\n",
    "          color:rgb(0, 128, 255);\n",
    "          text-align: center;\n",
    "        }\n",
    "        </style>\n",
    "    </head>\n",
    "    <body>\n",
    "        <h1 class=\"center\">Today's lesson</h1>\n",
    "        <p class=\"content\">We will go through three parts of data science as follows:\n",
    "            <a href=\"https://github.com/LisaTsai/Data_Science_in_Python/blob/master/01-Opendata_Map_Geopandas.ipynb\" class=\"chapter\" id=\"link1\">Opendata</a>,\n",
    "            <a href=\"https://github.com/LisaTsai/Data_Science_in_Python/blob/master/02-Economists_Crawler_BeautifulSoup.ipynb\" class=\"chapter\" id=\"link2\">Python Crawler</a> and\n",
    "            <a href=\"https://github.com/LisaTsai/Data_Science_in_Python/blob/master/03-Crawler_PTT_FittingCurve.ipynb\" class=\"chapter\" id=\"link3\">Fitting Curve</a>.\n",
    "             If you have any question, feel free to contact me.</p>\n",
    "        <p class=\"content\"> Beautiful Soup is a Python library for pulling data out of HTML and XML files... </p>\n",
    "        <img src=\"https://avatars2.githubusercontent.com/u/16304999?s=400&v=4\" height=\"80\" width=\"76\"/>\n",
    "        <div><a href=\"https://github.com/LisaTsai\" style=\"font-size=150%;color:gray\">LisaTsai's Github</a>\n",
    "    </body>\n",
    "</html>\n",
    "\"\"\"\n",
    "print(html_example1)"
   ]
  },
  {
   "cell_type": "markdown",
   "metadata": {},
   "source": [
    "### 2. 匯入BeautifulSoup函式庫\n",
    " 建立一個BeautifulSoup變數，並讀取html範例檔"
   ]
  },
  {
   "cell_type": "code",
   "execution_count": 2,
   "metadata": {},
   "outputs": [
    {
     "name": "stdout",
     "output_type": "stream",
     "text": [
      "\n",
      "<html>\n",
      "<head>\n",
      "<title>Today's lesson</title>\n",
      "<style>\n",
      "        .center {\n",
      "          color:rgb(0, 128, 255);\n",
      "          text-align: center;\n",
      "        }\n",
      "        </style>\n",
      "</head>\n",
      "<body>\n",
      "<h1 class=\"center\">Today's lesson</h1>\n",
      "<p class=\"content\">We will go through three parts of data science as follows:\n",
      "        <a class=\"chapter\" href=\"https://github.com/LisaTsai/Data_Science_in_Python/blob/master/01-Opendata_Map_Geopandas.ipynb\" id=\"link1\">Opendata</a>,\n",
      "        <a class=\"chapter\" href=\"https://github.com/LisaTsai/Data_Science_in_Python/blob/master/02-Economists_Crawler_BeautifulSoup.ipynb\" id=\"link2\">Python Crawler</a> and\n",
      "        <a class=\"chapter\" href=\"https://github.com/LisaTsai/Data_Science_in_Python/blob/master/03-Crawler_PTT_FittingCurve.ipynb\" id=\"link3\">Fitting Curve</a>.\n",
      "         If you have any question, feel free to contact me.</p>\n",
      "<p class=\"content\"> Beautiful Soup is a Python library for pulling data out of HTML and XML files... </p>\n",
      "<img height=\"80\" src=\"https://avatars2.githubusercontent.com/u/16304999?s=400&amp;v=4\" width=\"76\"/>\n",
      "<div><a href=\"https://github.com/LisaTsai\" style=\"font-size=150%;color:gray\">LisaTsai's Github</a>\n",
      "</div></body>\n",
      "</html>\n",
      "\n"
     ]
    }
   ],
   "source": [
    "from bs4 import BeautifulSoup\n",
    "soup = BeautifulSoup(html_example1, 'html.parser')\n",
    "print(soup)"
   ]
  },
  {
   "cell_type": "markdown",
   "metadata": {},
   "source": [
    "### 3. 使用find()及find_all()搭配「標籤+屬性」尋找特定文字內容"
   ]
  },
  {
   "cell_type": "code",
   "execution_count": 4,
   "metadata": {},
   "outputs": [
    {
     "data": {
      "text/plain": [
       "<p class=\"content\">We will go through three parts of data science as follows:\n",
       "        <a class=\"chapter\" href=\"https://github.com/LisaTsai/Data_Science_in_Python/blob/master/01-Opendata_Map_Geopandas.ipynb\" id=\"link1\">Opendata</a>,\n",
       "        <a class=\"chapter\" href=\"https://github.com/LisaTsai/Data_Science_in_Python/blob/master/02-Economists_Crawler_BeautifulSoup.ipynb\" id=\"link2\">Python Crawler</a> and\n",
       "        <a class=\"chapter\" href=\"https://github.com/LisaTsai/Data_Science_in_Python/blob/master/03-Crawler_PTT_FittingCurve.ipynb\" id=\"link3\">Fitting Curve</a>.\n",
       "         If you have any question, feel free to contact me.</p>"
      ]
     },
     "execution_count": 4,
     "metadata": {},
     "output_type": "execute_result"
    }
   ],
   "source": [
    "soup.find('p')            # 回傳第一個<p> </p>中的文字內容"
   ]
  },
  {
   "cell_type": "code",
   "execution_count": 5,
   "metadata": {},
   "outputs": [
    {
     "data": {
      "text/plain": [
       "<a class=\"chapter\" href=\"https://github.com/LisaTsai/Data_Science_in_Python/blob/master/01-Opendata_Map_Geopandas.ipynb\" id=\"link1\">Opendata</a>"
      ]
     },
     "execution_count": 5,
     "metadata": {},
     "output_type": "execute_result"
    }
   ],
   "source": [
    "soup.find(id = 'link1')        # 回傳第一個id為link1的文字內容"
   ]
  },
  {
   "cell_type": "code",
   "execution_count": 7,
   "metadata": {},
   "outputs": [
    {
     "data": {
      "text/plain": [
       "<a class=\"chapter\" href=\"https://github.com/LisaTsai/Data_Science_in_Python/blob/master/02-Economists_Crawler_BeautifulSoup.ipynb\" id=\"link2\">Python Crawler</a>"
      ]
     },
     "execution_count": 7,
     "metadata": {},
     "output_type": "execute_result"
    }
   ],
   "source": [
    "soup.find('a', id = 'link2')   # 回傳第一個id為link2且在<a> </a>中的文字內容 "
   ]
  },
  {
   "cell_type": "code",
   "execution_count": 8,
   "metadata": {},
   "outputs": [
    {
     "data": {
      "text/plain": [
       "[<p class=\"content\">We will go through three parts of data science as follows:\n",
       "         <a class=\"chapter\" href=\"https://github.com/LisaTsai/Data_Science_in_Python/blob/master/01-Opendata_Map_Geopandas.ipynb\" id=\"link1\">Opendata</a>,\n",
       "         <a class=\"chapter\" href=\"https://github.com/LisaTsai/Data_Science_in_Python/blob/master/02-Economists_Crawler_BeautifulSoup.ipynb\" id=\"link2\">Python Crawler</a> and\n",
       "         <a class=\"chapter\" href=\"https://github.com/LisaTsai/Data_Science_in_Python/blob/master/03-Crawler_PTT_FittingCurve.ipynb\" id=\"link3\">Fitting Curve</a>.\n",
       "          If you have any question, feel free to contact me.</p>,\n",
       " <p class=\"content\"> Beautiful Soup is a Python library for pulling data out of HTML and XML files... </p>]"
      ]
     },
     "execution_count": 8,
     "metadata": {},
     "output_type": "execute_result"
    }
   ],
   "source": [
    "soup.find_all('p')        # 回傳所有<p> </p>之中的內容"
   ]
  },
  {
   "cell_type": "code",
   "execution_count": 11,
   "metadata": {},
   "outputs": [
    {
     "data": {
      "text/plain": [
       "<h1 class=\"center\">Today's lesson</h1>"
      ]
     },
     "execution_count": 11,
     "metadata": {},
     "output_type": "execute_result"
    }
   ],
   "source": [
    "soup.find('h1', 'center')  # 找尋第一個 class為'center'且在 <h1>下的內容"
   ]
  },
  {
   "cell_type": "markdown",
   "metadata": {},
   "source": [
    "### 4. 確認某屬性是否存在"
   ]
  },
  {
   "cell_type": "code",
   "execution_count": 12,
   "metadata": {},
   "outputs": [
    {
     "name": "stdout",
     "output_type": "stream",
     "text": [
      "None\n"
     ]
    }
   ],
   "source": [
    "print(soup.find(id='link1').get('style'))"
   ]
  },
  {
   "cell_type": "code",
   "execution_count": null,
   "metadata": {},
   "outputs": [],
   "source": []
  }
 ],
 "metadata": {
  "kernelspec": {
   "display_name": "Python 3",
   "language": "python",
   "name": "python3"
  },
  "language_info": {
   "codemirror_mode": {
    "name": "ipython",
    "version": 3
   },
   "file_extension": ".py",
   "mimetype": "text/x-python",
   "name": "python",
   "nbconvert_exporter": "python",
   "pygments_lexer": "ipython3",
   "version": "3.7.4"
  }
 },
 "nbformat": 4,
 "nbformat_minor": 2
}
