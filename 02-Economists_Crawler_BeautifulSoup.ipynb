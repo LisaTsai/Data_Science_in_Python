{
 "cells": [
  {
   "cell_type": "markdown",
   "metadata": {},
   "source": [
    "### 0. 安裝Beautiful Soup及requests等函式庫"
   ]
  },
  {
   "cell_type": "code",
   "execution_count": 1,
   "metadata": {},
   "outputs": [
    {
     "name": "stdout",
     "output_type": "stream",
     "text": [
      "Requirement already satisfied: BeautifulSoup4 in /Library/Frameworks/Python.framework/Versions/3.7/lib/python3.7/site-packages (4.8.0)\n",
      "Requirement already satisfied: soupsieve>=1.2 in /Library/Frameworks/Python.framework/Versions/3.7/lib/python3.7/site-packages (from BeautifulSoup4) (1.9.3)\n",
      "\u001b[33mWARNING: You are using pip version 19.2.3, however version 19.3.1 is available.\n",
      "You should consider upgrading via the 'pip install --upgrade pip' command.\u001b[0m\n",
      "Requirement already satisfied: lxml in /Library/Frameworks/Python.framework/Versions/3.7/lib/python3.7/site-packages (4.4.1)\n",
      "\u001b[33mWARNING: You are using pip version 19.2.3, however version 19.3.1 is available.\n",
      "You should consider upgrading via the 'pip install --upgrade pip' command.\u001b[0m\n",
      "Requirement already satisfied: html5lib in /Library/Frameworks/Python.framework/Versions/3.7/lib/python3.7/site-packages (1.0.1)\n",
      "Requirement already satisfied: webencodings in /Library/Frameworks/Python.framework/Versions/3.7/lib/python3.7/site-packages (from html5lib) (0.5.1)\n",
      "Requirement already satisfied: six>=1.9 in /Library/Frameworks/Python.framework/Versions/3.7/lib/python3.7/site-packages (from html5lib) (1.12.0)\n",
      "\u001b[33mWARNING: You are using pip version 19.2.3, however version 19.3.1 is available.\n",
      "You should consider upgrading via the 'pip install --upgrade pip' command.\u001b[0m\n",
      "Requirement already satisfied: requests in /Library/Frameworks/Python.framework/Versions/3.7/lib/python3.7/site-packages (2.22.0)\n",
      "Requirement already satisfied: urllib3!=1.25.0,!=1.25.1,<1.26,>=1.21.1 in /Library/Frameworks/Python.framework/Versions/3.7/lib/python3.7/site-packages (from requests) (1.25.3)\n",
      "Requirement already satisfied: idna<2.9,>=2.5 in /Library/Frameworks/Python.framework/Versions/3.7/lib/python3.7/site-packages (from requests) (2.8)\n",
      "Requirement already satisfied: chardet<3.1.0,>=3.0.2 in /Library/Frameworks/Python.framework/Versions/3.7/lib/python3.7/site-packages (from requests) (3.0.4)\n",
      "Requirement already satisfied: certifi>=2017.4.17 in /Library/Frameworks/Python.framework/Versions/3.7/lib/python3.7/site-packages (from requests) (2019.6.16)\n",
      "\u001b[33mWARNING: You are using pip version 19.2.3, however version 19.3.1 is available.\n",
      "You should consider upgrading via the 'pip install --upgrade pip' command.\u001b[0m\n"
     ]
    }
   ],
   "source": [
    "import sys\n",
    "!{sys.executable} -m pip install BeautifulSoup4\n",
    "!{sys.executable} -m pip install lxml\n",
    "!{sys.executable} -m pip install html5lib\n",
    "!{sys.executable} -m pip install requests"
   ]
  },
  {
   "cell_type": "markdown",
   "metadata": {},
   "source": [
    "### 1. 定義一個練習用的html檔案"
   ]
  },
  {
   "cell_type": "code",
   "execution_count": 1,
   "metadata": {},
   "outputs": [
    {
     "name": "stdout",
     "output_type": "stream",
     "text": [
      "\n",
      "<html>\n",
      "    <head>\n",
      "        <title>Today's lesson</title>\n",
      "        <style>\n",
      "        .center {\n",
      "          color:rgb(0, 128, 255);\n",
      "          text-align: center;\n",
      "        }\n",
      "        </style>\n",
      "    </head>\n",
      "    <body>\n",
      "        <h1 class=\"center\">Today's lesson</h1>\n",
      "        <p class=\"content\">We will go through three parts of data science as follows:\n",
      "        <a href=\"https://github.com/LisaTsai/Data_Science_in_Python/blob/master/01-Opendata_Map_Geopandas.ipynb\" class=\"chapter\" id=\"link1\">Opendata</a>,\n",
      "        <a href=\"https://github.com/LisaTsai/Data_Science_in_Python/blob/master/02-Economists_Crawler_BeautifulSoup.ipynb\" class=\"chapter\" id=\"link2\">Python Crawler</a> and\n",
      "        <a href=\"https://github.com/LisaTsai/Data_Science_in_Python/blob/master/03-Crawler_PTT_FittingCurve.ipynb\" class=\"chapter\" id=\"link3\">Fitting Curve</a>.\n",
      "         If you have any question, feel free to contact me.</p>\n",
      "        <p class=\"content\"> Beautiful Soup is a Python library for pulling data out of HTML and XML files... </p>\n",
      "        <img src=\"https://avatars2.githubusercontent.com/u/16304999?s=400&v=4\" height=\"80\" width=\"76\"/>\n",
      "        <div><a href=\"https://github.com/LisaTsai\" style=\"font-size=150%;color:gray\">LisaTsai's Github</a>\n",
      "    </body>\n",
      "</html>\n",
      "\n"
     ]
    }
   ],
   "source": [
    "html_example1 = \"\"\"\n",
    "<html>\n",
    "    <head>\n",
    "        <title>Today's lesson</title>\n",
    "        <style>\n",
    "        .center {\n",
    "          color:rgb(0, 128, 255);\n",
    "          text-align: center;\n",
    "        }\n",
    "        </style>\n",
    "    </head>\n",
    "    <body>\n",
    "        <h1 class=\"center\">Today's lesson</h1>\n",
    "        <p class=\"content\">We will go through three parts of data science as follows:\n",
    "            <a href=\"https://github.com/LisaTsai/Data_Science_in_Python/blob/master/01-Opendata_Map_Geopandas.ipynb\" class=\"chapter\" id=\"link1\">Opendata</a>,\n",
    "            <a href=\"https://github.com/LisaTsai/Data_Science_in_Python/blob/master/02-Economists_Crawler_BeautifulSoup.ipynb\" class=\"chapter\" id=\"link2\">Python Crawler</a> and\n",
    "            <a href=\"https://github.com/LisaTsai/Data_Science_in_Python/blob/master/03-Crawler_PTT_FittingCurve.ipynb\" class=\"chapter\" id=\"link3\">Fitting Curve</a>.\n",
    "             If you have any question, feel free to contact me.</p>\n",
    "        <p class=\"content\"> Beautiful Soup is a Python library for pulling data out of HTML and XML files... </p>\n",
    "        <img src=\"https://avatars2.githubusercontent.com/u/16304999?s=400&v=4\" height=\"80\" width=\"76\"/>\n",
    "        <div><a href=\"https://github.com/LisaTsai\" style=\"font-size=150%;color:gray\">LisaTsai's Github</a>\n",
    "    </body>\n",
    "</html>\n",
    "\"\"\"\n",
    "print(html_example1)"
   ]
  },
  {
   "cell_type": "markdown",
   "metadata": {},
   "source": [
    "### 2. 匯入BeautifulSoup函式庫\n",
    " 建立一個BeautifulSoup變數，並讀取html範例檔"
   ]
  },
  {
   "cell_type": "code",
   "execution_count": 2,
   "metadata": {},
   "outputs": [
    {
     "name": "stdout",
     "output_type": "stream",
     "text": [
      "\n",
      "<html>\n",
      "<head>\n",
      "<title>Today's lesson</title>\n",
      "<style>\n",
      "        .center {\n",
      "          color:rgb(0, 128, 255);\n",
      "          text-align: center;\n",
      "        }\n",
      "        </style>\n",
      "</head>\n",
      "<body>\n",
      "<h1 class=\"center\">Today's lesson</h1>\n",
      "<p class=\"content\">We will go through three parts of data science as follows:\n",
      "        <a class=\"chapter\" href=\"https://github.com/LisaTsai/Data_Science_in_Python/blob/master/01-Opendata_Map_Geopandas.ipynb\" id=\"link1\">Opendata</a>,\n",
      "        <a class=\"chapter\" href=\"https://github.com/LisaTsai/Data_Science_in_Python/blob/master/02-Economists_Crawler_BeautifulSoup.ipynb\" id=\"link2\">Python Crawler</a> and\n",
      "        <a class=\"chapter\" href=\"https://github.com/LisaTsai/Data_Science_in_Python/blob/master/03-Crawler_PTT_FittingCurve.ipynb\" id=\"link3\">Fitting Curve</a>.\n",
      "         If you have any question, feel free to contact me.</p>\n",
      "<p class=\"content\"> Beautiful Soup is a Python library for pulling data out of HTML and XML files... </p>\n",
      "<img height=\"80\" src=\"https://avatars2.githubusercontent.com/u/16304999?s=400&amp;v=4\" width=\"76\"/>\n",
      "<div><a href=\"https://github.com/LisaTsai\" style=\"font-size=150%;color:gray\">LisaTsai's Github</a>\n",
      "</div></body>\n",
      "</html>\n",
      "\n"
     ]
    }
   ],
   "source": [
    "from bs4 import BeautifulSoup\n",
    "soup = BeautifulSoup(html_example1, 'html.parser')\n",
    "print(soup)"
   ]
  },
  {
   "cell_type": "markdown",
   "metadata": {},
   "source": [
    "### 3. 使用find()及find_all()搭配「標籤+屬性」尋找特定文字內容"
   ]
  },
  {
   "cell_type": "code",
   "execution_count": 4,
   "metadata": {},
   "outputs": [
    {
     "data": {
      "text/plain": [
       "<p class=\"content\">We will go through three parts of data science as follows:\n",
       "        <a class=\"chapter\" href=\"https://github.com/LisaTsai/Data_Science_in_Python/blob/master/01-Opendata_Map_Geopandas.ipynb\" id=\"link1\">Opendata</a>,\n",
       "        <a class=\"chapter\" href=\"https://github.com/LisaTsai/Data_Science_in_Python/blob/master/02-Economists_Crawler_BeautifulSoup.ipynb\" id=\"link2\">Python Crawler</a> and\n",
       "        <a class=\"chapter\" href=\"https://github.com/LisaTsai/Data_Science_in_Python/blob/master/03-Crawler_PTT_FittingCurve.ipynb\" id=\"link3\">Fitting Curve</a>.\n",
       "         If you have any question, feel free to contact me.</p>"
      ]
     },
     "execution_count": 4,
     "metadata": {},
     "output_type": "execute_result"
    }
   ],
   "source": [
    "soup.find('p')            # 回傳第一個<p> </p>中的文字內容"
   ]
  },
  {
   "cell_type": "code",
   "execution_count": 5,
   "metadata": {},
   "outputs": [
    {
     "data": {
      "text/plain": [
       "<a class=\"chapter\" href=\"https://github.com/LisaTsai/Data_Science_in_Python/blob/master/01-Opendata_Map_Geopandas.ipynb\" id=\"link1\">Opendata</a>"
      ]
     },
     "execution_count": 5,
     "metadata": {},
     "output_type": "execute_result"
    }
   ],
   "source": [
    "soup.find(id = 'link1')        # 回傳第一個id為link1的文字內容"
   ]
  },
  {
   "cell_type": "code",
   "execution_count": 7,
   "metadata": {},
   "outputs": [
    {
     "data": {
      "text/plain": [
       "<a class=\"chapter\" href=\"https://github.com/LisaTsai/Data_Science_in_Python/blob/master/02-Economists_Crawler_BeautifulSoup.ipynb\" id=\"link2\">Python Crawler</a>"
      ]
     },
     "execution_count": 7,
     "metadata": {},
     "output_type": "execute_result"
    }
   ],
   "source": [
    "soup.find('a', id = 'link2')   # 回傳第一個id為link2且在<a> </a>中的文字內容 "
   ]
  },
  {
   "cell_type": "code",
   "execution_count": 8,
   "metadata": {},
   "outputs": [
    {
     "data": {
      "text/plain": [
       "[<p class=\"content\">We will go through three parts of data science as follows:\n",
       "         <a class=\"chapter\" href=\"https://github.com/LisaTsai/Data_Science_in_Python/blob/master/01-Opendata_Map_Geopandas.ipynb\" id=\"link1\">Opendata</a>,\n",
       "         <a class=\"chapter\" href=\"https://github.com/LisaTsai/Data_Science_in_Python/blob/master/02-Economists_Crawler_BeautifulSoup.ipynb\" id=\"link2\">Python Crawler</a> and\n",
       "         <a class=\"chapter\" href=\"https://github.com/LisaTsai/Data_Science_in_Python/blob/master/03-Crawler_PTT_FittingCurve.ipynb\" id=\"link3\">Fitting Curve</a>.\n",
       "          If you have any question, feel free to contact me.</p>,\n",
       " <p class=\"content\"> Beautiful Soup is a Python library for pulling data out of HTML and XML files... </p>]"
      ]
     },
     "execution_count": 8,
     "metadata": {},
     "output_type": "execute_result"
    }
   ],
   "source": [
    "soup.find_all('p')        # 回傳所有<p> </p>之中的內容"
   ]
  },
  {
   "cell_type": "code",
   "execution_count": 11,
   "metadata": {},
   "outputs": [
    {
     "data": {
      "text/plain": [
       "<h1 class=\"center\">Today's lesson</h1>"
      ]
     },
     "execution_count": 11,
     "metadata": {},
     "output_type": "execute_result"
    }
   ],
   "source": [
    "soup.find('h1', 'center')  # 找尋第一個 class為'center'且在 <h1>下的內容"
   ]
  },
  {
   "cell_type": "markdown",
   "metadata": {},
   "source": [
    "### 4. 確認某屬性是否存在"
   ]
  },
  {
   "cell_type": "code",
   "execution_count": 12,
   "metadata": {},
   "outputs": [
    {
     "name": "stdout",
     "output_type": "stream",
     "text": [
      "None\n"
     ]
    }
   ],
   "source": [
    "print(soup.find(id='link1').get('style'))"
   ]
  },
  {
   "cell_type": "markdown",
   "metadata": {},
   "source": [
    "### 5. 進一步應用"
   ]
  },
  {
   "cell_type": "code",
   "execution_count": 14,
   "metadata": {},
   "outputs": [
    {
     "name": "stdout",
     "output_type": "stream",
     "text": [
      "['content'] We will go through three parts of data science as follows:\n",
      "        Opendata,\n",
      "        Python Crawler and\n",
      "        Fitting Curve.\n",
      "         If you have any question, feel free to contact me.\n",
      "['content']  Beautiful Soup is a Python library for pulling data out of HTML and XML files... \n"
     ]
    }
   ],
   "source": [
    "paragraphs = soup.find_all('p')\n",
    "for p in paragraphs:\n",
    "    print(p['class'], p.text)"
   ]
  },
  {
   "cell_type": "code",
   "execution_count": 25,
   "metadata": {},
   "outputs": [
    {
     "name": "stdout",
     "output_type": "stream",
     "text": [
      "The hyperlink of Opendata is https://github.com/LisaTsai/Data_Science_in_Python/blob/master/01-Opendata_Map_Geopandas.ipynb\n",
      "The hyperlink of Python Crawler is https://github.com/LisaTsai/Data_Science_in_Python/blob/master/02-Economists_Crawler_BeautifulSoup.ipynb\n",
      "The hyperlink of Fitting Curve is https://github.com/LisaTsai/Data_Science_in_Python/blob/master/03-Crawler_PTT_FittingCurve.ipynb\n",
      "The hyperlink of LisaTsai's Github is https://github.com/LisaTsai\n"
     ]
    }
   ],
   "source": [
    "hyperlink_list=[]\n",
    "text_list=[]\n",
    "hyperlinks = soup.find_all('a')\n",
    "for a in hyperlinks:\n",
    "    text_list.append(a.text)\n",
    "    hyperlink_list.append(a['href'])\n",
    "for i in range(len(text_list)):\n",
    "    print(\"The hyperlink of %s is %s\"%(text_list[i],hyperlink_list[i]))"
   ]
  },
  {
   "cell_type": "markdown",
   "metadata": {},
   "source": [
    "### 6. 下載經濟學人網站資料"
   ]
  },
  {
   "cell_type": "markdown",
   "metadata": {},
   "source": [
    "### 匯入必要的函式庫以及定義要取得內容的網址"
   ]
  },
  {
   "cell_type": "code",
   "execution_count": 28,
   "metadata": {},
   "outputs": [],
   "source": [
    "# -*- coding: utf8 -*-\n",
    "import re\n",
    "import requests\n",
    "import numpy as np\n",
    "from bs4 import BeautifulSoup\n",
    "resp = requests.get(url=\"https://www.economist.com/printedition/2019-11-13\")\n",
    "soup = BeautifulSoup(resp.text, 'html.parser')\n",
    "target_url = \"https://www.economist.com\"\n",
    "href_list = []\n",
    "#print(soup)"
   ]
  },
  {
   "cell_type": "markdown",
   "metadata": {},
   "source": [
    "### 定義函式"
   ]
  },
  {
   "cell_type": "code",
   "execution_count": 37,
   "metadata": {},
   "outputs": [],
   "source": [
    "def sub_string(string):\n",
    "    for index in range(len(string)):\n",
    "        if string[index:index+7] ==\"2019/11\":\n",
    "            return True\n",
    "    return False\n",
    "\n",
    "def get_page_content(page):\n",
    "    resp = requests.get(url=target_url+page)\n",
    "    soup = BeautifulSoup(resp.text, 'html.parser')\n",
    "    want = soup.find_all('p')\n",
    "    flag = 0\n",
    "    title = \" \"\n",
    "    for w in want:\n",
    "        if flag == 0:\n",
    "            content=re.split(' ',w.text)\n",
    "            page_split = re.split('/',page)\n",
    "            title = page_split[-1]+\".txt\"\n",
    "            text_file = open(title, \"ab\")\n",
    "            text_file.close()\n",
    "            flag=1\n",
    "        with open(title, \"a\", encoding='utf8') as text_file:\n",
    "            text_file.write(w.text)\n",
    "    text_file.close()"
   ]
  },
  {
   "cell_type": "markdown",
   "metadata": {},
   "source": [
    "### 整理2019年11月的文章清單"
   ]
  },
  {
   "cell_type": "code",
   "execution_count": 36,
   "metadata": {},
   "outputs": [
    {
     "name": "stdout",
     "output_type": "stream",
     "text": [
      "['/the-world-this-week/2019/11/07/politics-this-week', '/the-world-this-week/2019/11/07/business-this-week', '/the-world-this-week/2019/11/07/kals-cartoon', '/leaders/2019/11/07/assessing-emmanuel-macrons-apocalyptic-vision', '/leaders/2019/11/09/billionaires-are-only-rarely-policy-failures', '/leaders/2019/11/07/how-to-stop-cameroon-collapsing-into-a-full-fledged-civil-war', '/leaders/2019/11/09/women-in-public-life-are-increasingly-subject-to-sexual-slander-dont-believe-it', '/leaders/2019/11/09/a-new-type-of-genetic-profiling-promises-cleverer-better-looking-children', '/letters/2019/11/09/letters-to-the-editor', '/briefing/2019/11/07/emmanuel-macron-on-europes-fragile-place-in-a-hostile-world', '/united-states/2019/11/07/how-would-elizabeth-warren-pay-for-her-health-policy', '/united-states/2019/11/07/the-off-year-elections-were-not-a-rejection-of-donald-trump', '/united-states/2019/11/07/gordon-sondlands-testimony-forces-republicans-to-shift-arguments', '/united-states/2019/11/09/should-facebook-run-political-adverts-containing-lies', '/united-states/2019/11/07/milwaukees-north-side-remains-deeply-troubled', '/united-states/2019/11/07/russians-have-flocked-to-donald-trumps-florida', '/united-states/2019/11/09/the-wars-in-iraq-and-afghanistan-have-cost-most-americans-nothing', '/the-americas/2019/11/07/evo-morales-faces-a-long-insurrection', '/the-americas/2019/11/09/jamaicas-tumultuous-relationship-with-the-imf-has-a-happy-ending', '/asia/2019/11/07/asias-trade-negotiators-decide-they-can-no-longer-wait-for-india', '/asia/2019/11/07/religious-protesters-have-put-pakistans-government-on-the-defensive', '/asia/2019/11/07/bangladeshs-biggest-city-plans-to-ban-cycle-rickshaws', '/asia/2019/11/07/heavy-thai-monks-seek-enlightenment', '/asia/2019/11/07/china-tries-to-deepen-economic-ties-with-taiwan-yet-more', '/asia/2019/11/07/was-shutting-japans-reactors-deadlier-than-the-fukushima-disaster', '/asia/2019/11/07/why-politics-in-the-south-pacific-are-so-precarious', '/china/2019/11/07/mainland-chinese-are-being-attacked-in-hong-kong', '/china/2019/11/09/a-lawsuit-against-face-scans-in-china-could-have-big-consequences', '/china/2019/11/07/in-china-capitalism-breeds-new-respect-for-dialects', '/middle-east-and-africa/2019/11/07/english-speaking-villages-are-burning-in-cameroon', '/middle-east-and-africa/2019/11/07/irans-nuclear-programme-takes-a-dangerous-step', '/middle-east-and-africa/2019/11/07/how-jerusalem-is-dealing-with-a-grave-shortage', '/middle-east-and-africa/2019/11/07/saudi-arabia-should-listen-to-critics-of-its-reform-programme', '/europe/2019/11/07/spain-goes-to-the-polls-for-the-fourth-time-in-four-years', '/europe/2019/11/07/the-sudden-popularity-of-a-russian-mayor-who-lives-modestly', '/europe/2019/11/07/how-women-are-singled-out-for-vile-abuse-for-political-ends', '/europe/2019/11/07/estonia-has-a-new-way-to-stop-speeding-motorists', '/europe/2019/11/07/how-genocide-denial-warps-turkish-politics', '/britain/2019/11/07/the-conservatives-are-struggling-to-win-a-crucial-midlands-marginal', '/britain/2019/11/07/northern-irish-parties-form-new-pacts-to-unseat-their-enemies', '/britain/2019/11/07/tories-promise-more-police-having-earlier-cut-their-number', '/britain/2019/11/09/how-britains-pollsters-have-changed-their-methods', '/britain/2019/11/07/the-best-quotes-from-the-second-week-of-britains-election-campaign', '/britain/2019/11/07/climate-change-looms-larger-than-in-any-past-british-election', '/britain/2019/11/07/dont-expect-mps-to-make-less-trouble-under-lindsay-hoyle', '/britain/2019/11/07/security-questions-for-jeremy-corbyn', '/international/2019/11/07/countries-are-increasingly-willing-to-censor-speech-online', '/business/2019/11/07/how-to-make-your-firm-more-diverse-and-inclusive', '/business/2019/11/07/mcdonalds-fires-its-boss-over-a-workplace-romance', '/business/2019/11/07/a-postcard-from-hong-kong', '/business/2019/11/09/a-three-way-battle-over-control-of-pg-and-e', '/business/2019/11/07/tiktoks-silly-clips-raise-some-serious-questions', '/business/2019/11/09/take-the-money-and-run', '/business/2019/11/09/japan-inc-has-thrived-in-china-of-late', '/business/2019/11/07/hard-times-for-softbank', '/finance-and-economics/2019/11/07/revisiting-the-euros-north-south-rift', '/finance-and-economics/2019/11/07/china-tries-to-squeeze-more-out-of-a-small-trade-deal-with-america', '/finance-and-economics/2019/11/07/distressed-debt-funds-are-waiting-for-a-downturn', '/finance-and-economics/2019/11/07/have-billionaires-accumulated-their-wealth-illegitimately', '/finance-and-economics/2019/11/07/what-is-the-illiquidity-premium', '/finance-and-economics/2019/11/07/mexicos-radical-president-serves-up-economic-mediocrity', '/finance-and-economics/2019/11/07/financial-crime-through-video-games-is-on-the-rise', '/finance-and-economics/2019/11/07/litigation-finance-faces-ethical-quandaries', '/finance-and-economics/2019/11/07/belligerent-unions-are-a-sign-of-economic-health', '/science-and-technology/2019/11/07/modern-genetics-will-improve-health-and-usher-in-designer-children', '/books-and-arts/2019/11/07/an-imperial-palace-a-prison-and-now-a-symbolic-museum', '/books-and-arts/2019/11/09/a-century-ago-america-saved-millions-of-russians-from-starvation', '/books-and-arts/2019/11/07/palm-beach-and-the-rise-of-american-celebrity', '/books-and-arts/2019/11/07/the-slippery-talent-of-emmanuel-carrere', '/books-and-arts/2019/11/07/the-art-and-loves-of-george-eliot', '/economic-and-financial-indicators/2019/11/07/economic-data-commodities-and-markets', '/graphic-detail/2019/11/09/indias-toxic-smog-is-a-common-affliction-in-middle-income-countries', '/obituary/2019/11/07/obituary-huang-yong-ping-died-on-october-20th', '/the-world-this-week/2019/11/07/politics-this-week', '/the-world-this-week/2019/11/07/business-this-week', '/the-world-this-week/2019/11/07/kals-cartoon', '/leaders/2019/11/07/assessing-emmanuel-macrons-apocalyptic-vision', '/leaders/2019/11/09/billionaires-are-only-rarely-policy-failures', '/leaders/2019/11/07/how-to-stop-cameroon-collapsing-into-a-full-fledged-civil-war', '/leaders/2019/11/09/women-in-public-life-are-increasingly-subject-to-sexual-slander-dont-believe-it', '/leaders/2019/11/09/a-new-type-of-genetic-profiling-promises-cleverer-better-looking-children', '/letters/2019/11/09/letters-to-the-editor', '/briefing/2019/11/07/emmanuel-macron-on-europes-fragile-place-in-a-hostile-world', '/united-states/2019/11/07/how-would-elizabeth-warren-pay-for-her-health-policy', '/united-states/2019/11/07/the-off-year-elections-were-not-a-rejection-of-donald-trump', '/united-states/2019/11/07/gordon-sondlands-testimony-forces-republicans-to-shift-arguments', '/united-states/2019/11/09/should-facebook-run-political-adverts-containing-lies', '/united-states/2019/11/07/milwaukees-north-side-remains-deeply-troubled', '/united-states/2019/11/07/russians-have-flocked-to-donald-trumps-florida', '/united-states/2019/11/09/the-wars-in-iraq-and-afghanistan-have-cost-most-americans-nothing', '/the-americas/2019/11/07/evo-morales-faces-a-long-insurrection', '/the-americas/2019/11/09/jamaicas-tumultuous-relationship-with-the-imf-has-a-happy-ending', '/asia/2019/11/07/asias-trade-negotiators-decide-they-can-no-longer-wait-for-india', '/asia/2019/11/07/religious-protesters-have-put-pakistans-government-on-the-defensive', '/asia/2019/11/07/bangladeshs-biggest-city-plans-to-ban-cycle-rickshaws', '/asia/2019/11/07/heavy-thai-monks-seek-enlightenment', '/asia/2019/11/07/china-tries-to-deepen-economic-ties-with-taiwan-yet-more', '/asia/2019/11/07/was-shutting-japans-reactors-deadlier-than-the-fukushima-disaster', '/asia/2019/11/07/why-politics-in-the-south-pacific-are-so-precarious', '/china/2019/11/07/mainland-chinese-are-being-attacked-in-hong-kong', '/china/2019/11/09/a-lawsuit-against-face-scans-in-china-could-have-big-consequences', '/china/2019/11/07/in-china-capitalism-breeds-new-respect-for-dialects', '/middle-east-and-africa/2019/11/07/english-speaking-villages-are-burning-in-cameroon', '/middle-east-and-africa/2019/11/07/irans-nuclear-programme-takes-a-dangerous-step', '/middle-east-and-africa/2019/11/07/how-jerusalem-is-dealing-with-a-grave-shortage', '/middle-east-and-africa/2019/11/07/saudi-arabia-should-listen-to-critics-of-its-reform-programme', '/europe/2019/11/07/spain-goes-to-the-polls-for-the-fourth-time-in-four-years', '/europe/2019/11/07/the-sudden-popularity-of-a-russian-mayor-who-lives-modestly', '/europe/2019/11/07/how-women-are-singled-out-for-vile-abuse-for-political-ends', '/europe/2019/11/07/estonia-has-a-new-way-to-stop-speeding-motorists', '/europe/2019/11/07/how-genocide-denial-warps-turkish-politics', '/britain/2019/11/07/the-conservatives-are-struggling-to-win-a-crucial-midlands-marginal', '/britain/2019/11/07/northern-irish-parties-form-new-pacts-to-unseat-their-enemies', '/britain/2019/11/07/tories-promise-more-police-having-earlier-cut-their-number', '/britain/2019/11/09/how-britains-pollsters-have-changed-their-methods', '/britain/2019/11/07/the-best-quotes-from-the-second-week-of-britains-election-campaign', '/britain/2019/11/07/climate-change-looms-larger-than-in-any-past-british-election', '/britain/2019/11/07/dont-expect-mps-to-make-less-trouble-under-lindsay-hoyle', '/britain/2019/11/07/security-questions-for-jeremy-corbyn', '/international/2019/11/07/countries-are-increasingly-willing-to-censor-speech-online', '/business/2019/11/07/how-to-make-your-firm-more-diverse-and-inclusive', '/business/2019/11/07/mcdonalds-fires-its-boss-over-a-workplace-romance', '/business/2019/11/07/a-postcard-from-hong-kong', '/business/2019/11/09/a-three-way-battle-over-control-of-pg-and-e', '/business/2019/11/07/tiktoks-silly-clips-raise-some-serious-questions', '/business/2019/11/09/take-the-money-and-run', '/business/2019/11/09/japan-inc-has-thrived-in-china-of-late', '/business/2019/11/07/hard-times-for-softbank', '/finance-and-economics/2019/11/07/revisiting-the-euros-north-south-rift', '/finance-and-economics/2019/11/07/china-tries-to-squeeze-more-out-of-a-small-trade-deal-with-america', '/finance-and-economics/2019/11/07/distressed-debt-funds-are-waiting-for-a-downturn', '/finance-and-economics/2019/11/07/have-billionaires-accumulated-their-wealth-illegitimately', '/finance-and-economics/2019/11/07/what-is-the-illiquidity-premium', '/finance-and-economics/2019/11/07/mexicos-radical-president-serves-up-economic-mediocrity', '/finance-and-economics/2019/11/07/financial-crime-through-video-games-is-on-the-rise', '/finance-and-economics/2019/11/07/litigation-finance-faces-ethical-quandaries', '/finance-and-economics/2019/11/07/belligerent-unions-are-a-sign-of-economic-health', '/science-and-technology/2019/11/07/modern-genetics-will-improve-health-and-usher-in-designer-children', '/books-and-arts/2019/11/07/an-imperial-palace-a-prison-and-now-a-symbolic-museum', '/books-and-arts/2019/11/09/a-century-ago-america-saved-millions-of-russians-from-starvation', '/books-and-arts/2019/11/07/palm-beach-and-the-rise-of-american-celebrity', '/books-and-arts/2019/11/07/the-slippery-talent-of-emmanuel-carrere', '/books-and-arts/2019/11/07/the-art-and-loves-of-george-eliot', '/economic-and-financial-indicators/2019/11/07/economic-data-commodities-and-markets', '/graphic-detail/2019/11/09/indias-toxic-smog-is-a-common-affliction-in-middle-income-countries', '/obituary/2019/11/07/obituary-huang-yong-ping-died-on-october-20th', '/the-world-this-week/2019/11/07/politics-this-week', '/the-world-this-week/2019/11/07/business-this-week', '/the-world-this-week/2019/11/07/kals-cartoon', '/leaders/2019/11/07/assessing-emmanuel-macrons-apocalyptic-vision', '/leaders/2019/11/09/billionaires-are-only-rarely-policy-failures', '/leaders/2019/11/07/how-to-stop-cameroon-collapsing-into-a-full-fledged-civil-war', '/leaders/2019/11/09/women-in-public-life-are-increasingly-subject-to-sexual-slander-dont-believe-it', '/leaders/2019/11/09/a-new-type-of-genetic-profiling-promises-cleverer-better-looking-children', '/letters/2019/11/09/letters-to-the-editor', '/briefing/2019/11/07/emmanuel-macron-on-europes-fragile-place-in-a-hostile-world', '/united-states/2019/11/07/how-would-elizabeth-warren-pay-for-her-health-policy', '/united-states/2019/11/07/the-off-year-elections-were-not-a-rejection-of-donald-trump', '/united-states/2019/11/07/gordon-sondlands-testimony-forces-republicans-to-shift-arguments', '/united-states/2019/11/09/should-facebook-run-political-adverts-containing-lies', '/united-states/2019/11/07/milwaukees-north-side-remains-deeply-troubled', '/united-states/2019/11/07/russians-have-flocked-to-donald-trumps-florida', '/united-states/2019/11/09/the-wars-in-iraq-and-afghanistan-have-cost-most-americans-nothing', '/the-americas/2019/11/07/evo-morales-faces-a-long-insurrection', '/the-americas/2019/11/09/jamaicas-tumultuous-relationship-with-the-imf-has-a-happy-ending', '/asia/2019/11/07/asias-trade-negotiators-decide-they-can-no-longer-wait-for-india', '/asia/2019/11/07/religious-protesters-have-put-pakistans-government-on-the-defensive', '/asia/2019/11/07/bangladeshs-biggest-city-plans-to-ban-cycle-rickshaws', '/asia/2019/11/07/heavy-thai-monks-seek-enlightenment', '/asia/2019/11/07/china-tries-to-deepen-economic-ties-with-taiwan-yet-more', '/asia/2019/11/07/was-shutting-japans-reactors-deadlier-than-the-fukushima-disaster', '/asia/2019/11/07/why-politics-in-the-south-pacific-are-so-precarious', '/china/2019/11/07/mainland-chinese-are-being-attacked-in-hong-kong', '/china/2019/11/09/a-lawsuit-against-face-scans-in-china-could-have-big-consequences', '/china/2019/11/07/in-china-capitalism-breeds-new-respect-for-dialects', '/middle-east-and-africa/2019/11/07/english-speaking-villages-are-burning-in-cameroon', '/middle-east-and-africa/2019/11/07/irans-nuclear-programme-takes-a-dangerous-step', '/middle-east-and-africa/2019/11/07/how-jerusalem-is-dealing-with-a-grave-shortage', '/middle-east-and-africa/2019/11/07/saudi-arabia-should-listen-to-critics-of-its-reform-programme', '/europe/2019/11/07/spain-goes-to-the-polls-for-the-fourth-time-in-four-years', '/europe/2019/11/07/the-sudden-popularity-of-a-russian-mayor-who-lives-modestly', '/europe/2019/11/07/how-women-are-singled-out-for-vile-abuse-for-political-ends', '/europe/2019/11/07/estonia-has-a-new-way-to-stop-speeding-motorists', '/europe/2019/11/07/how-genocide-denial-warps-turkish-politics', '/britain/2019/11/07/the-conservatives-are-struggling-to-win-a-crucial-midlands-marginal', '/britain/2019/11/07/northern-irish-parties-form-new-pacts-to-unseat-their-enemies', '/britain/2019/11/07/tories-promise-more-police-having-earlier-cut-their-number', '/britain/2019/11/09/how-britains-pollsters-have-changed-their-methods', '/britain/2019/11/07/the-best-quotes-from-the-second-week-of-britains-election-campaign', '/britain/2019/11/07/climate-change-looms-larger-than-in-any-past-british-election', '/britain/2019/11/07/dont-expect-mps-to-make-less-trouble-under-lindsay-hoyle', '/britain/2019/11/07/security-questions-for-jeremy-corbyn', '/international/2019/11/07/countries-are-increasingly-willing-to-censor-speech-online', '/business/2019/11/07/how-to-make-your-firm-more-diverse-and-inclusive', '/business/2019/11/07/mcdonalds-fires-its-boss-over-a-workplace-romance', '/business/2019/11/07/a-postcard-from-hong-kong', '/business/2019/11/09/a-three-way-battle-over-control-of-pg-and-e', '/business/2019/11/07/tiktoks-silly-clips-raise-some-serious-questions', '/business/2019/11/09/take-the-money-and-run', '/business/2019/11/09/japan-inc-has-thrived-in-china-of-late', '/business/2019/11/07/hard-times-for-softbank', '/finance-and-economics/2019/11/07/revisiting-the-euros-north-south-rift', '/finance-and-economics/2019/11/07/china-tries-to-squeeze-more-out-of-a-small-trade-deal-with-america', '/finance-and-economics/2019/11/07/distressed-debt-funds-are-waiting-for-a-downturn', '/finance-and-economics/2019/11/07/have-billionaires-accumulated-their-wealth-illegitimately', '/finance-and-economics/2019/11/07/what-is-the-illiquidity-premium', '/finance-and-economics/2019/11/07/mexicos-radical-president-serves-up-economic-mediocrity', '/finance-and-economics/2019/11/07/financial-crime-through-video-games-is-on-the-rise', '/finance-and-economics/2019/11/07/litigation-finance-faces-ethical-quandaries', '/finance-and-economics/2019/11/07/belligerent-unions-are-a-sign-of-economic-health', '/science-and-technology/2019/11/07/modern-genetics-will-improve-health-and-usher-in-designer-children', '/books-and-arts/2019/11/07/an-imperial-palace-a-prison-and-now-a-symbolic-museum', '/books-and-arts/2019/11/09/a-century-ago-america-saved-millions-of-russians-from-starvation', '/books-and-arts/2019/11/07/palm-beach-and-the-rise-of-american-celebrity', '/books-and-arts/2019/11/07/the-slippery-talent-of-emmanuel-carrere', '/books-and-arts/2019/11/07/the-art-and-loves-of-george-eliot', '/economic-and-financial-indicators/2019/11/07/economic-data-commodities-and-markets', '/graphic-detail/2019/11/09/indias-toxic-smog-is-a-common-affliction-in-middle-income-countries', '/obituary/2019/11/07/obituary-huang-yong-ping-died-on-october-20th', '/the-world-this-week/2019/11/07/politics-this-week', '/the-world-this-week/2019/11/07/business-this-week', '/the-world-this-week/2019/11/07/kals-cartoon', '/leaders/2019/11/07/assessing-emmanuel-macrons-apocalyptic-vision', '/leaders/2019/11/09/billionaires-are-only-rarely-policy-failures', '/leaders/2019/11/07/how-to-stop-cameroon-collapsing-into-a-full-fledged-civil-war', '/leaders/2019/11/09/women-in-public-life-are-increasingly-subject-to-sexual-slander-dont-believe-it', '/leaders/2019/11/09/a-new-type-of-genetic-profiling-promises-cleverer-better-looking-children', '/letters/2019/11/09/letters-to-the-editor', '/briefing/2019/11/07/emmanuel-macron-on-europes-fragile-place-in-a-hostile-world', '/united-states/2019/11/07/how-would-elizabeth-warren-pay-for-her-health-policy', '/united-states/2019/11/07/the-off-year-elections-were-not-a-rejection-of-donald-trump', '/united-states/2019/11/07/gordon-sondlands-testimony-forces-republicans-to-shift-arguments', '/united-states/2019/11/09/should-facebook-run-political-adverts-containing-lies', '/united-states/2019/11/07/milwaukees-north-side-remains-deeply-troubled', '/united-states/2019/11/07/russians-have-flocked-to-donald-trumps-florida', '/united-states/2019/11/09/the-wars-in-iraq-and-afghanistan-have-cost-most-americans-nothing', '/the-americas/2019/11/07/evo-morales-faces-a-long-insurrection', '/the-americas/2019/11/09/jamaicas-tumultuous-relationship-with-the-imf-has-a-happy-ending', '/asia/2019/11/07/asias-trade-negotiators-decide-they-can-no-longer-wait-for-india', '/asia/2019/11/07/religious-protesters-have-put-pakistans-government-on-the-defensive', '/asia/2019/11/07/bangladeshs-biggest-city-plans-to-ban-cycle-rickshaws', '/asia/2019/11/07/heavy-thai-monks-seek-enlightenment', '/asia/2019/11/07/china-tries-to-deepen-economic-ties-with-taiwan-yet-more', '/asia/2019/11/07/was-shutting-japans-reactors-deadlier-than-the-fukushima-disaster', '/asia/2019/11/07/why-politics-in-the-south-pacific-are-so-precarious', '/china/2019/11/07/mainland-chinese-are-being-attacked-in-hong-kong', '/china/2019/11/09/a-lawsuit-against-face-scans-in-china-could-have-big-consequences', '/china/2019/11/07/in-china-capitalism-breeds-new-respect-for-dialects', '/middle-east-and-africa/2019/11/07/english-speaking-villages-are-burning-in-cameroon', '/middle-east-and-africa/2019/11/07/irans-nuclear-programme-takes-a-dangerous-step', '/middle-east-and-africa/2019/11/07/how-jerusalem-is-dealing-with-a-grave-shortage', '/middle-east-and-africa/2019/11/07/saudi-arabia-should-listen-to-critics-of-its-reform-programme', '/europe/2019/11/07/spain-goes-to-the-polls-for-the-fourth-time-in-four-years', '/europe/2019/11/07/the-sudden-popularity-of-a-russian-mayor-who-lives-modestly', '/europe/2019/11/07/how-women-are-singled-out-for-vile-abuse-for-political-ends', '/europe/2019/11/07/estonia-has-a-new-way-to-stop-speeding-motorists', '/europe/2019/11/07/how-genocide-denial-warps-turkish-politics', '/britain/2019/11/07/the-conservatives-are-struggling-to-win-a-crucial-midlands-marginal', '/britain/2019/11/07/northern-irish-parties-form-new-pacts-to-unseat-their-enemies', '/britain/2019/11/07/tories-promise-more-police-having-earlier-cut-their-number', '/britain/2019/11/09/how-britains-pollsters-have-changed-their-methods', '/britain/2019/11/07/the-best-quotes-from-the-second-week-of-britains-election-campaign', '/britain/2019/11/07/climate-change-looms-larger-than-in-any-past-british-election', '/britain/2019/11/07/dont-expect-mps-to-make-less-trouble-under-lindsay-hoyle', '/britain/2019/11/07/security-questions-for-jeremy-corbyn', '/international/2019/11/07/countries-are-increasingly-willing-to-censor-speech-online', '/business/2019/11/07/how-to-make-your-firm-more-diverse-and-inclusive', '/business/2019/11/07/mcdonalds-fires-its-boss-over-a-workplace-romance', '/business/2019/11/07/a-postcard-from-hong-kong', '/business/2019/11/09/a-three-way-battle-over-control-of-pg-and-e', '/business/2019/11/07/tiktoks-silly-clips-raise-some-serious-questions', '/business/2019/11/09/take-the-money-and-run', '/business/2019/11/09/japan-inc-has-thrived-in-china-of-late', '/business/2019/11/07/hard-times-for-softbank', '/finance-and-economics/2019/11/07/revisiting-the-euros-north-south-rift', '/finance-and-economics/2019/11/07/china-tries-to-squeeze-more-out-of-a-small-trade-deal-with-america', '/finance-and-economics/2019/11/07/distressed-debt-funds-are-waiting-for-a-downturn', '/finance-and-economics/2019/11/07/have-billionaires-accumulated-their-wealth-illegitimately', '/finance-and-economics/2019/11/07/what-is-the-illiquidity-premium', '/finance-and-economics/2019/11/07/mexicos-radical-president-serves-up-economic-mediocrity', '/finance-and-economics/2019/11/07/financial-crime-through-video-games-is-on-the-rise', '/finance-and-economics/2019/11/07/litigation-finance-faces-ethical-quandaries', '/finance-and-economics/2019/11/07/belligerent-unions-are-a-sign-of-economic-health', '/science-and-technology/2019/11/07/modern-genetics-will-improve-health-and-usher-in-designer-children', '/books-and-arts/2019/11/07/an-imperial-palace-a-prison-and-now-a-symbolic-museum', '/books-and-arts/2019/11/09/a-century-ago-america-saved-millions-of-russians-from-starvation', '/books-and-arts/2019/11/07/palm-beach-and-the-rise-of-american-celebrity', '/books-and-arts/2019/11/07/the-slippery-talent-of-emmanuel-carrere', '/books-and-arts/2019/11/07/the-art-and-loves-of-george-eliot', '/economic-and-financial-indicators/2019/11/07/economic-data-commodities-and-markets', '/graphic-detail/2019/11/09/indias-toxic-smog-is-a-common-affliction-in-middle-income-countries', '/obituary/2019/11/07/obituary-huang-yong-ping-died-on-october-20th', '/the-world-this-week/2019/11/07/politics-this-week', '/the-world-this-week/2019/11/07/business-this-week', '/the-world-this-week/2019/11/07/kals-cartoon', '/leaders/2019/11/07/assessing-emmanuel-macrons-apocalyptic-vision', '/leaders/2019/11/09/billionaires-are-only-rarely-policy-failures', '/leaders/2019/11/07/how-to-stop-cameroon-collapsing-into-a-full-fledged-civil-war', '/leaders/2019/11/09/women-in-public-life-are-increasingly-subject-to-sexual-slander-dont-believe-it', '/leaders/2019/11/09/a-new-type-of-genetic-profiling-promises-cleverer-better-looking-children', '/letters/2019/11/09/letters-to-the-editor', '/briefing/2019/11/07/emmanuel-macron-on-europes-fragile-place-in-a-hostile-world', '/united-states/2019/11/07/how-would-elizabeth-warren-pay-for-her-health-policy', '/united-states/2019/11/07/the-off-year-elections-were-not-a-rejection-of-donald-trump', '/united-states/2019/11/07/gordon-sondlands-testimony-forces-republicans-to-shift-arguments', '/united-states/2019/11/09/should-facebook-run-political-adverts-containing-lies', '/united-states/2019/11/07/milwaukees-north-side-remains-deeply-troubled', '/united-states/2019/11/07/russians-have-flocked-to-donald-trumps-florida', '/united-states/2019/11/09/the-wars-in-iraq-and-afghanistan-have-cost-most-americans-nothing', '/the-americas/2019/11/07/evo-morales-faces-a-long-insurrection', '/the-americas/2019/11/09/jamaicas-tumultuous-relationship-with-the-imf-has-a-happy-ending', '/asia/2019/11/07/asias-trade-negotiators-decide-they-can-no-longer-wait-for-india', '/asia/2019/11/07/religious-protesters-have-put-pakistans-government-on-the-defensive', '/asia/2019/11/07/bangladeshs-biggest-city-plans-to-ban-cycle-rickshaws', '/asia/2019/11/07/heavy-thai-monks-seek-enlightenment', '/asia/2019/11/07/china-tries-to-deepen-economic-ties-with-taiwan-yet-more', '/asia/2019/11/07/was-shutting-japans-reactors-deadlier-than-the-fukushima-disaster', '/asia/2019/11/07/why-politics-in-the-south-pacific-are-so-precarious', '/china/2019/11/07/mainland-chinese-are-being-attacked-in-hong-kong', '/china/2019/11/09/a-lawsuit-against-face-scans-in-china-could-have-big-consequences', '/china/2019/11/07/in-china-capitalism-breeds-new-respect-for-dialects', '/middle-east-and-africa/2019/11/07/english-speaking-villages-are-burning-in-cameroon', '/middle-east-and-africa/2019/11/07/irans-nuclear-programme-takes-a-dangerous-step', '/middle-east-and-africa/2019/11/07/how-jerusalem-is-dealing-with-a-grave-shortage', '/middle-east-and-africa/2019/11/07/saudi-arabia-should-listen-to-critics-of-its-reform-programme', '/europe/2019/11/07/spain-goes-to-the-polls-for-the-fourth-time-in-four-years', '/europe/2019/11/07/the-sudden-popularity-of-a-russian-mayor-who-lives-modestly', '/europe/2019/11/07/how-women-are-singled-out-for-vile-abuse-for-political-ends', '/europe/2019/11/07/estonia-has-a-new-way-to-stop-speeding-motorists', '/europe/2019/11/07/how-genocide-denial-warps-turkish-politics', '/britain/2019/11/07/the-conservatives-are-struggling-to-win-a-crucial-midlands-marginal', '/britain/2019/11/07/northern-irish-parties-form-new-pacts-to-unseat-their-enemies', '/britain/2019/11/07/tories-promise-more-police-having-earlier-cut-their-number', '/britain/2019/11/09/how-britains-pollsters-have-changed-their-methods', '/britain/2019/11/07/the-best-quotes-from-the-second-week-of-britains-election-campaign', '/britain/2019/11/07/climate-change-looms-larger-than-in-any-past-british-election', '/britain/2019/11/07/dont-expect-mps-to-make-less-trouble-under-lindsay-hoyle', '/britain/2019/11/07/security-questions-for-jeremy-corbyn', '/international/2019/11/07/countries-are-increasingly-willing-to-censor-speech-online', '/business/2019/11/07/how-to-make-your-firm-more-diverse-and-inclusive', '/business/2019/11/07/mcdonalds-fires-its-boss-over-a-workplace-romance', '/business/2019/11/07/a-postcard-from-hong-kong', '/business/2019/11/09/a-three-way-battle-over-control-of-pg-and-e', '/business/2019/11/07/tiktoks-silly-clips-raise-some-serious-questions', '/business/2019/11/09/take-the-money-and-run', '/business/2019/11/09/japan-inc-has-thrived-in-china-of-late', '/business/2019/11/07/hard-times-for-softbank', '/finance-and-economics/2019/11/07/revisiting-the-euros-north-south-rift', '/finance-and-economics/2019/11/07/china-tries-to-squeeze-more-out-of-a-small-trade-deal-with-america', '/finance-and-economics/2019/11/07/distressed-debt-funds-are-waiting-for-a-downturn', '/finance-and-economics/2019/11/07/have-billionaires-accumulated-their-wealth-illegitimately', '/finance-and-economics/2019/11/07/what-is-the-illiquidity-premium', '/finance-and-economics/2019/11/07/mexicos-radical-president-serves-up-economic-mediocrity', '/finance-and-economics/2019/11/07/financial-crime-through-video-games-is-on-the-rise', '/finance-and-economics/2019/11/07/litigation-finance-faces-ethical-quandaries', '/finance-and-economics/2019/11/07/belligerent-unions-are-a-sign-of-economic-health', '/science-and-technology/2019/11/07/modern-genetics-will-improve-health-and-usher-in-designer-children', '/books-and-arts/2019/11/07/an-imperial-palace-a-prison-and-now-a-symbolic-museum', '/books-and-arts/2019/11/09/a-century-ago-america-saved-millions-of-russians-from-starvation', '/books-and-arts/2019/11/07/palm-beach-and-the-rise-of-american-celebrity', '/books-and-arts/2019/11/07/the-slippery-talent-of-emmanuel-carrere', '/books-and-arts/2019/11/07/the-art-and-loves-of-george-eliot', '/economic-and-financial-indicators/2019/11/07/economic-data-commodities-and-markets', '/graphic-detail/2019/11/09/indias-toxic-smog-is-a-common-affliction-in-middle-income-countries', '/obituary/2019/11/07/obituary-huang-yong-ping-died-on-october-20th']\n"
     ]
    }
   ],
   "source": [
    "hrefs = soup.find_all('a')\n",
    "\n",
    "for a in hrefs:\n",
    "    try:\n",
    "        if sub_string(a['href']):\n",
    "            #print(a['href'])\n",
    "            href_list.append(a['href'])\n",
    "    except:\n",
    "        pass\n",
    "print(href_list)"
   ]
  },
  {
   "cell_type": "markdown",
   "metadata": {},
   "source": [
    "### 取得超連結清單中index為20的文章內容"
   ]
  },
  {
   "cell_type": "code",
   "execution_count": 39,
   "metadata": {},
   "outputs": [],
   "source": [
    "get_page_content(href_list[20])"
   ]
  },
  {
   "cell_type": "markdown",
   "metadata": {},
   "source": [
    "### 取得該頁面所有連結文章的內容"
   ]
  },
  {
   "cell_type": "code",
   "execution_count": null,
   "metadata": {},
   "outputs": [],
   "source": [
    "for page in href_list:\n",
    "    get_page_content(page)"
   ]
  }
 ],
 "metadata": {
  "kernelspec": {
   "display_name": "Python 3",
   "language": "python",
   "name": "python3"
  },
  "language_info": {
   "codemirror_mode": {
    "name": "ipython",
    "version": 3
   },
   "file_extension": ".py",
   "mimetype": "text/x-python",
   "name": "python",
   "nbconvert_exporter": "python",
   "pygments_lexer": "ipython3",
   "version": "3.7.4"
  }
 },
 "nbformat": 4,
 "nbformat_minor": 2
}
